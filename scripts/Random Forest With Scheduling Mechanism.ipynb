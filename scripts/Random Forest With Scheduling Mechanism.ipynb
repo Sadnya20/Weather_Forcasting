{
 "cells": [
  {
   "cell_type": "markdown",
   "id": "601c5199-9a4c-459d-a397-b56fb17c8a23",
   "metadata": {},
   "source": [
    "#### importing the necessary libraries"
   ]
  },
  {
   "cell_type": "code",
   "execution_count": 2,
   "id": "565a9be9-56f8-40e4-9d26-7ed7a395b9e5",
   "metadata": {},
   "outputs": [
    {
     "name": "stdout",
     "output_type": "stream",
     "text": [
      "Requirement already satisfied: meteostat in c:\\users\\welcome\\anaconda3\\lib\\site-packages (1.6.8)\n",
      "Requirement already satisfied: scikit-learn in c:\\users\\welcome\\anaconda3\\lib\\site-packages (1.5.1)\n",
      "Requirement already satisfied: imbalanced-learn in c:\\users\\welcome\\anaconda3\\lib\\site-packages (0.12.3)\n",
      "Requirement already satisfied: pandas in c:\\users\\welcome\\anaconda3\\lib\\site-packages (2.2.2)\n",
      "Requirement already satisfied: numpy in c:\\users\\welcome\\anaconda3\\lib\\site-packages (1.26.4)\n",
      "Requirement already satisfied: matplotlib in c:\\users\\welcome\\anaconda3\\lib\\site-packages (3.9.2)\n",
      "Requirement already satisfied: pytz in c:\\users\\welcome\\anaconda3\\lib\\site-packages (from meteostat) (2024.1)\n",
      "Requirement already satisfied: scipy>=1.6.0 in c:\\users\\welcome\\anaconda3\\lib\\site-packages (from scikit-learn) (1.13.1)\n",
      "Requirement already satisfied: joblib>=1.2.0 in c:\\users\\welcome\\anaconda3\\lib\\site-packages (from scikit-learn) (1.4.2)\n",
      "Requirement already satisfied: threadpoolctl>=3.1.0 in c:\\users\\welcome\\anaconda3\\lib\\site-packages (from scikit-learn) (3.5.0)\n",
      "Requirement already satisfied: python-dateutil>=2.8.2 in c:\\users\\welcome\\anaconda3\\lib\\site-packages (from pandas) (2.9.0.post0)\n",
      "Requirement already satisfied: tzdata>=2022.7 in c:\\users\\welcome\\anaconda3\\lib\\site-packages (from pandas) (2023.3)\n",
      "Requirement already satisfied: contourpy>=1.0.1 in c:\\users\\welcome\\anaconda3\\lib\\site-packages (from matplotlib) (1.2.0)\n",
      "Requirement already satisfied: cycler>=0.10 in c:\\users\\welcome\\anaconda3\\lib\\site-packages (from matplotlib) (0.11.0)\n",
      "Requirement already satisfied: fonttools>=4.22.0 in c:\\users\\welcome\\anaconda3\\lib\\site-packages (from matplotlib) (4.51.0)\n",
      "Requirement already satisfied: kiwisolver>=1.3.1 in c:\\users\\welcome\\anaconda3\\lib\\site-packages (from matplotlib) (1.4.4)\n",
      "Requirement already satisfied: packaging>=20.0 in c:\\users\\welcome\\anaconda3\\lib\\site-packages (from matplotlib) (24.1)\n",
      "Requirement already satisfied: pillow>=8 in c:\\users\\welcome\\anaconda3\\lib\\site-packages (from matplotlib) (10.4.0)\n",
      "Requirement already satisfied: pyparsing>=2.3.1 in c:\\users\\welcome\\anaconda3\\lib\\site-packages (from matplotlib) (3.1.2)\n",
      "Requirement already satisfied: six>=1.5 in c:\\users\\welcome\\anaconda3\\lib\\site-packages (from python-dateutil>=2.8.2->pandas) (1.16.0)\n"
     ]
    }
   ],
   "source": [
    "# 1. Install Dependencies (Run once)\n",
    "!pip install meteostat scikit-learn imbalanced-learn pandas numpy matplotlib"
   ]
  },
  {
   "cell_type": "code",
   "execution_count": 2,
   "id": "09be8a22-877a-4c98-abed-69d8738c9ee3",
   "metadata": {},
   "outputs": [],
   "source": [
    "from meteostat import Point, Daily, Hourly\n",
    "from datetime import datetime\n",
    "import pandas as pd\n",
    "import numpy as np\n",
    "import matplotlib.pyplot as plt\n",
    "from sklearn.ensemble import RandomForestRegressor, RandomForestClassifier\n",
    "from sklearn.model_selection import train_test_split\n",
    "from sklearn.metrics import mean_squared_error, accuracy_score, classification_report, confusion_matrix, ConfusionMatrixDisplay\n",
    "from imblearn.over_sampling import RandomOverSampler\n",
    "import seaborn as sns\n",
    "import schedule\n",
    "import time\n",
    "import warnings"
   ]
  },
  {
   "cell_type": "code",
   "execution_count": 3,
   "id": "cf62658c-d666-4665-bad6-641f5f3ec7b9",
   "metadata": {},
   "outputs": [],
   "source": [
    "#initialising warnings\n",
    "warnings.filterwarnings(\"ignore\", message=\"Support for nested sequences for 'parse_dates'\")\n",
    "warnings.filterwarnings(\"ignore\", message=\"'H' is deprecated\")"
   ]
  },
  {
   "cell_type": "markdown",
   "id": "077ee8bf-953e-470d-b701-b41edac704b7",
   "metadata": {},
   "source": [
    "### RANDOM FOREST REGRESSION MODEL"
   ]
  },
  {
   "cell_type": "code",
   "execution_count": 5,
   "id": "2b055656-488c-48b4-b772-5c58404c785e",
   "metadata": {},
   "outputs": [],
   "source": [
    "def run_weather_forecast():\n",
    "    # 1. Fetch Weather Data (Pune)\n",
    "    location = Point(18.5204, 73.8567)  # Pune\n",
    "    start = datetime(2015, 1, 1)\n",
    "    end = datetime.now()\n",
    "\n",
    "    # Daily Data\n",
    "    daily_data = Daily(location, start, end).fetch().reset_index()\n",
    "    daily_data.rename(columns={\n",
    "        'time': 'date_time',\n",
    "        'tavg': 'temperature',\n",
    "        'prcp': 'precipitation',\n",
    "        'wspd': 'wind_speed',\n",
    "        'pres': 'pressure'\n",
    "    }, inplace=True)\n",
    "    daily_data = daily_data[['date_time', 'temperature', 'tmin', 'tmax', 'precipitation', 'wind_speed', 'pressure']]\n",
    "    daily_data.fillna(daily_data.median(numeric_only=True), inplace=True)\n",
    "\n",
    "    # Hourly Humidity\n",
    "    hourly_data = Hourly(location, start, end).fetch().reset_index()\n",
    "    hourly_data['date_time'] = hourly_data['time'].dt.date\n",
    "    humidity = hourly_data.groupby('date_time')['rhum'].mean().reset_index()\n",
    "    humidity.rename(columns={'rhum': 'humidity'}, inplace=True)\n",
    "    humidity['date_time'] = pd.to_datetime(humidity['date_time'])\n",
    "\n",
    "    # Merge\n",
    "    df = pd.merge(daily_data, humidity, on='date_time', how='left')\n",
    "\n",
    "    # Targets\n",
    "    df['forecasted_temperature'] = df['temperature'].shift(-1)\n",
    "    max_precip = df['precipitation'].max()\n",
    "    df['precipitation_probability'] = df['precipitation'] / (max_precip + 0.001)\n",
    "    df['forecasted_precip_prob'] = df['precipitation_probability'].shift(-1)\n",
    "    df['weather_condition'] = np.where(df['precipitation'] > 1.0, 'rainy', 'clear')\n",
    "    df['forecasted_condition'] = df['weather_condition'].shift(-1)\n",
    "\n",
    "    # Time features\n",
    "    df['month'] = df['date_time'].dt.month\n",
    "    df['day_of_year'] = df['date_time'].dt.dayofyear\n",
    "    df['season'] = df['month'] % 12 // 3 + 1\n",
    "    df['is_monsoon'] = df['month'].isin([6, 7, 8, 9]).astype(int)\n",
    "\n",
    "    df.dropna(inplace=True)\n",
    "\n",
    "    # Features\n",
    "    features = ['temperature', 'tmin', 'tmax', 'wind_speed', 'pressure',\n",
    "                'precipitation', 'humidity', 'month', 'day_of_year', 'season', 'is_monsoon']\n",
    "\n",
    "    X = df[features]\n",
    "\n",
    "    # Regression - Temperature\n",
    "    y_temp = df['forecasted_temperature']\n",
    "    X_train_temp, X_test_temp, y_train_temp, y_test_temp = train_test_split(X, y_temp, test_size=0.2, random_state=42)\n",
    "\n",
    "    # Regression - Precipitation\n",
    "    y_precip = df['forecasted_precip_prob']\n",
    "    X_train_precip, X_test_precip, y_train_precip, y_test_precip = train_test_split(X, y_precip, test_size=0.2, random_state=42)\n",
    "\n",
    "    # Classification - Condition\n",
    "    y_cond = df['forecasted_condition']\n",
    "    X_train_cond, X_test_cond, y_train_cond, y_test_cond = train_test_split(X, y_cond, test_size=0.2, random_state=42)\n",
    "\n",
    "    ros = RandomOverSampler(random_state=42)\n",
    "    X_resampled, y_resampled = ros.fit_resample(X_train_cond, y_train_cond)\n",
    "\n",
    "    # Models\n",
    "    reg_temp = RandomForestRegressor(n_estimators=100, random_state=42)\n",
    "    reg_temp.fit(X_train_temp, y_train_temp)\n",
    "\n",
    "    reg_precip = RandomForestRegressor(n_estimators=100, random_state=42)\n",
    "    reg_precip.fit(X_train_precip, y_train_precip)\n",
    "\n",
    "    cls_cond = RandomForestClassifier(n_estimators=100, class_weight='balanced', random_state=42)\n",
    "    cls_cond.fit(X_resampled, y_resampled)\n",
    "\n",
    "    # Evaluate\n",
    "    y_pred_temp = reg_temp.predict(X_test_temp)\n",
    "    y_pred_precip = reg_precip.predict(X_test_precip)\n",
    "    y_pred_cond = cls_cond.predict(X_test_cond)\n",
    "\n",
    "    rmse_temp = np.sqrt(mean_squared_error(y_test_temp, y_pred_temp))\n",
    "    rmse_precip = np.sqrt(mean_squared_error(y_test_precip, y_pred_precip))\n",
    "    acc_cond = accuracy_score(y_test_cond, y_pred_cond)\n",
    "\n",
    "    print(f\"\\n✅ Regression - Temperature: RMSE = {rmse_temp:.2f} °C\")\n",
    "    print(f\"✅ Regression - Precipitation: RMSE = {rmse_precip:.3f}\")\n",
    "    print(f\"✅ Classification - Weather Condition Accuracy: {acc_cond:.2%}\")\n",
    "    print(classification_report(y_test_cond, y_pred_cond))\n",
    "\n",
    "    # Save latest predictions\n",
    "    df['predicted_temperature'] = reg_temp.predict(X)\n",
    "    df['predicted_precip_prob'] = reg_precip.predict(X)\n",
    "    df['predicted_condition'] = cls_cond.predict(X)\n",
    "\n",
    "    df.to_csv(\"pune_rf_weather_predictions.csv\", index=False)\n",
    "    print(\"\\n📁 Predictions saved to pune_rf_weather_predictions.csv\")\n",
    "\n",
    "    # Optional: Plot Feature Importances for Temperature\n",
    "    importances = reg_temp.feature_importances_\n",
    "    plt.figure(figsize=(10, 6))\n",
    "    plt.barh(features, importances)\n",
    "    plt.title(\"Feature Importance for Temperature Prediction\")\n",
    "    plt.xlabel(\"Importance\")\n",
    "    plt.show()\n",
    "\n",
    "    # Optional: Confusion Matrix for Classification\n",
    "    cm = confusion_matrix(y_test_cond, y_pred_cond, labels=cls_cond.classes_)\n",
    "    disp = ConfusionMatrixDisplay(confusion_matrix=cm, display_labels=cls_cond.classes_)\n",
    "    disp.plot()\n",
    "    plt.title(\"Confusion Matrix: Weather Condition Classification\")\n",
    "    plt.show()\n",
    "\n",
    "    # -----------------------------\n",
    "    # 1. Predicted vs Actual: Temperature\n",
    "    # -----------------------------\n",
    "    plt.figure(figsize=(8, 5))\n",
    "    plt.scatter(y_test_temp, y_pred_temp, alpha=0.6, color='dodgerblue')\n",
    "    plt.plot([y_test_temp.min(), y_test_temp.max()], [y_test_temp.min(), y_test_temp.max()], 'r--')\n",
    "    plt.title(\"Temperature: Actual vs Predicted\")\n",
    "    plt.xlabel(\"Actual Temperature (°C)\")\n",
    "    plt.ylabel(\"Predicted Temperature (°C)\")\n",
    "    plt.grid(True)\n",
    "    plt.tight_layout()\n",
    "    plt.show()\n",
    "    \n",
    "    # -----------------------------\n",
    "    # 2. Predicted vs Actual: Precipitation Probability\n",
    "    # -----------------------------\n",
    "    plt.figure(figsize=(8, 5))\n",
    "    \n",
    "    # Plot actual values (pink)\n",
    "    plt.scatter(range(len(y_test_precip)), y_test_precip, alpha=0.6, color='blue', label='Actual Probability')\n",
    "    \n",
    "    # Plot predicted values (red)\n",
    "    plt.scatter(range(len(y_pred_precip)), y_pred_precip, alpha=0.6, color='red', label='Predicted Probability')\n",
    "    \n",
    "    plt.title(\"Precipitation Probability: Actual vs Predicted\")\n",
    "    plt.xlabel(\"Sample Index\")\n",
    "    plt.ylabel(\"Probability\")\n",
    "    plt.legend()\n",
    "    plt.grid(True)\n",
    "    plt.tight_layout()\n",
    "    plt.show()\n",
    "    \n",
    "    # -----------------------------\n",
    "    # 3. Confusion Matrix: Weather Condition\n",
    "    # -----------------------------\n",
    "    cm = confusion_matrix(y_test_cond, y_pred_cond, labels=cls_cond.classes_)\n",
    "    \n",
    "    plt.figure(figsize=(6, 5))\n",
    "    sns.heatmap(cm, annot=True, fmt=\"d\", cmap=\"Blues\",\n",
    "                xticklabels=cls_cond.classes_,\n",
    "                yticklabels=cls_cond.classes_)\n",
    "    plt.title(\"Confusion Matrix: Weather Condition\")\n",
    "    plt.xlabel(\"Predicted\")\n",
    "    plt.ylabel(\"Actual\")\n",
    "    plt.tight_layout()\n",
    "    plt.show()"
   ]
  },
  {
   "cell_type": "code",
   "execution_count": 6,
   "id": "5883dcc3-ea76-4560-9d8c-77d2b01cf50e",
   "metadata": {},
   "outputs": [
    {
     "data": {
      "text/plain": [
       "Every 1 day at 07:05:00 do run_weather_forecast() (last run: [never], next run: 2025-04-13 07:05:00)"
      ]
     },
     "execution_count": 6,
     "metadata": {},
     "output_type": "execute_result"
    }
   ],
   "source": [
    "# Scheduler - Run every day at 07:05 AM\n",
    "schedule.every().day.at(\"07:05\").do(run_weather_forecast)"
   ]
  },
  {
   "cell_type": "code",
   "execution_count": null,
   "id": "780b0a71-be2a-44c1-b5ec-963ec52722fc",
   "metadata": {},
   "outputs": [
    {
     "name": "stdout",
     "output_type": "stream",
     "text": [
      "🕖 Scheduler is running. Waiting for 07:05 AM every day...\n"
     ]
    }
   ],
   "source": [
    "print(\"🕖 Scheduler is running. Waiting for 07:05 AM every day...\")\n",
    "while True:\n",
    "    schedule.run_pending()\n",
    "    time.sleep(60)"
   ]
  }
 ],
 "metadata": {
  "kernelspec": {
   "display_name": "Python [conda env:base] *",
   "language": "python",
   "name": "conda-base-py"
  },
  "language_info": {
   "codemirror_mode": {
    "name": "ipython",
    "version": 3
   },
   "file_extension": ".py",
   "mimetype": "text/x-python",
   "name": "python",
   "nbconvert_exporter": "python",
   "pygments_lexer": "ipython3",
   "version": "3.12.9"
  }
 },
 "nbformat": 4,
 "nbformat_minor": 5
}
