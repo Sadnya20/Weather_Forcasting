{
 "cells": [
  {
   "cell_type": "code",
   "execution_count": 1,
   "id": "7e25610b-1730-4bf9-9002-749ae33f1e14",
   "metadata": {},
   "outputs": [
    {
     "name": "stdout",
     "output_type": "stream",
     "text": [
      "Requirement already satisfied: schedule in c:\\users\\welcome\\anaconda3\\lib\\site-packages (1.2.2)\n",
      "Note: you may need to restart the kernel to use updated packages.\n"
     ]
    }
   ],
   "source": [
    "pip install schedule"
   ]
  },
  {
   "cell_type": "markdown",
   "id": "6fdb3751-a660-492b-b14d-ab2290648bc9",
   "metadata": {},
   "source": [
    "#### importing the necessary libraries"
   ]
  },
  {
   "cell_type": "code",
   "execution_count": 3,
   "id": "dfcfa4c2-850c-42b2-bd02-2eed5d54373d",
   "metadata": {},
   "outputs": [],
   "source": [
    "from meteostat import Point, Daily\n",
    "from datetime import datetime\n",
    "import pandas as pd\n",
    "import schedule\n",
    "import time"
   ]
  },
  {
   "cell_type": "markdown",
   "id": "3b875dc1-0db5-4c79-b274-0fef9e248c44",
   "metadata": {},
   "source": [
    "#### Fetching the waether data for city of Pune"
   ]
  },
  {
   "cell_type": "code",
   "execution_count": 5,
   "id": "310a3546-1e19-4203-a449-39314b27d230",
   "metadata": {},
   "outputs": [],
   "source": [
    "def fetch_weather_data():\n",
    "    # Location for Pune (latitude, longitude, elevation in meters)\n",
    "    location = Point(18.5204, 73.8567, 560)\n",
    "\n",
    "    start = datetime(2000, 1, 1)\n",
    "    end = datetime.now()  # Use current datetime for end\n",
    "\n",
    "    data = Daily(location, start, end)\n",
    "    data = data.fetch()\n",
    "\n",
    "    data = data.reset_index()\n",
    "    print(data.head())\n",
    "\n",
    "    # Optional: Save to CSV or database\n",
    "    data.to_csv('Meteostat_pune.csv', index=False)\n",
    "    print(\"Data updated at:\", datetime.now())"
   ]
  },
  {
   "cell_type": "code",
   "execution_count": 6,
   "id": "fba140fb-d322-4d13-b633-61813ab613f1",
   "metadata": {},
   "outputs": [
    {
     "data": {
      "text/plain": [
       "Every 1 day at 07:00:00 do fetch_weather_data() (last run: [never], next run: 2025-04-13 07:00:00)"
      ]
     },
     "execution_count": 6,
     "metadata": {},
     "output_type": "execute_result"
    }
   ],
   "source": [
    "# Schedule the function to run daily at 7:00 AM\n",
    "schedule.every().day.at(\"07:00\").do(fetch_weather_data)"
   ]
  },
  {
   "cell_type": "code",
   "execution_count": 7,
   "id": "bd141b97-2c77-4bf0-8973-873fa7678ff1",
   "metadata": {},
   "outputs": [
    {
     "name": "stdout",
     "output_type": "stream",
     "text": [
      "Scheduler started. Waiting for 7:00 AM daily task...\n"
     ]
    }
   ],
   "source": [
    "print(\"Scheduler started. Waiting for 7:00 AM daily task...\")"
   ]
  },
  {
   "cell_type": "code",
   "execution_count": null,
   "id": "485de823-ecb9-4c16-9202-ceac246c9f51",
   "metadata": {},
   "outputs": [],
   "source": [
    "while True:\n",
    "    schedule.run_pending()\n",
    "    time.sleep(60)"
   ]
  }
 ],
 "metadata": {
  "kernelspec": {
   "display_name": "Python [conda env:base] *",
   "language": "python",
   "name": "conda-base-py"
  },
  "language_info": {
   "codemirror_mode": {
    "name": "ipython",
    "version": 3
   },
   "file_extension": ".py",
   "mimetype": "text/x-python",
   "name": "python",
   "nbconvert_exporter": "python",
   "pygments_lexer": "ipython3",
   "version": "3.12.9"
  }
 },
 "nbformat": 4,
 "nbformat_minor": 5
}
