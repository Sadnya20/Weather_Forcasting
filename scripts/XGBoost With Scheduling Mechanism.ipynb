{
 "cells": [
  {
   "cell_type": "markdown",
   "id": "dd9b733f-f4b8-4953-9632-8ab2242bec73",
   "metadata": {},
   "source": [
    "### importing the required libraries"
   ]
  },
  {
   "cell_type": "code",
   "execution_count": 2,
   "id": "871009b0-91a7-4ec2-8a37-00fa7f82914c",
   "metadata": {},
   "outputs": [],
   "source": [
    "from meteostat import Point, Daily, Hourly\n",
    "from datetime import datetime\n",
    "import pandas as pd\n",
    "import numpy as np\n",
    "import matplotlib.pyplot as plt\n",
    "from sklearn.model_selection import train_test_split\n",
    "from sklearn.metrics import mean_squared_error, accuracy_score, classification_report, confusion_matrix, ConfusionMatrixDisplay\n",
    "from imblearn.over_sampling import RandomOverSampler\n",
    "from sklearn.preprocessing import LabelEncoder\n",
    "from xgboost import XGBRegressor, XGBClassifier\n",
    "import warnings\n",
    "import schedule\n",
    "import time"
   ]
  },
  {
   "cell_type": "code",
   "execution_count": 3,
   "id": "83c952bd-75f4-46e0-aab3-fbe48016a2d6",
   "metadata": {},
   "outputs": [],
   "source": [
    "warnings.filterwarnings(\"ignore\")"
   ]
  },
  {
   "cell_type": "markdown",
   "id": "4f02ffd6-181b-42bd-863e-3f515a9334e0",
   "metadata": {},
   "source": [
    "## XG BOOST MACHINE LEARNING MODEL"
   ]
  },
  {
   "cell_type": "code",
   "execution_count": 5,
   "id": "83eda7f6-3d05-41aa-ae1e-54651b17b200",
   "metadata": {},
   "outputs": [],
   "source": [
    "def run_weather_forecast():\n",
    "    print(\"\\n⏰ Job started at\", datetime.now())\n",
    "\n",
    "    # Fetch weather data\n",
    "    location = Point(18.5204, 73.8567)  # Pune\n",
    "    start = datetime(2015, 1, 1)\n",
    "    end = datetime.now()\n",
    "\n",
    "    # Daily weather\n",
    "    daily_data = Daily(location, start, end).fetch().reset_index()\n",
    "    daily_data.rename(columns={\n",
    "        'time': 'date_time',\n",
    "        'tavg': 'temperature',\n",
    "        'prcp': 'precipitation',\n",
    "        'wspd': 'wind_speed',\n",
    "        'pres': 'pressure'\n",
    "    }, inplace=True)\n",
    "    daily_data = daily_data[['date_time', 'temperature', 'tmin', 'tmax', 'precipitation', 'wind_speed', 'pressure']]\n",
    "    daily_data.fillna(daily_data.median(numeric_only=True), inplace=True)\n",
    "\n",
    "    # Hourly humidity\n",
    "    hourly_data = Hourly(location, start, end).fetch().reset_index()\n",
    "    hourly_data['date_time'] = hourly_data['time'].dt.date\n",
    "    humidity = hourly_data.groupby('date_time')['rhum'].mean().reset_index()\n",
    "    humidity.rename(columns={'rhum': 'humidity'}, inplace=True)\n",
    "    humidity['date_time'] = pd.to_datetime(humidity['date_time'])\n",
    "\n",
    "    # Merge\n",
    "    df = pd.merge(daily_data, humidity, on='date_time', how='left')\n",
    "\n",
    "    # Add targets\n",
    "    df['forecasted_temperature'] = df['temperature'].shift(-1)\n",
    "    max_precip = df['precipitation'].max()\n",
    "    df['precipitation_probability'] = df['precipitation'] / (max_precip + 0.001)\n",
    "    df['forecasted_precip_prob'] = df['precipitation_probability'].shift(-1)\n",
    "    df['weather_condition'] = np.where(df['precipitation'] > 1.0, 'rainy', 'clear')\n",
    "    df['forecasted_condition'] = df['weather_condition'].shift(-1)\n",
    "\n",
    "    # Time features\n",
    "    df['month'] = df['date_time'].dt.month\n",
    "    df['day_of_year'] = df['date_time'].dt.dayofyear\n",
    "    df['season'] = df['month'] % 12 // 3 + 1\n",
    "    df['is_monsoon'] = df['month'].isin([6, 7, 8, 9]).astype(int)\n",
    "\n",
    "    # Drop NaNs\n",
    "    df.dropna(inplace=True)\n",
    "\n",
    "    # Features and targets\n",
    "    features = ['temperature', 'tmin', 'tmax', 'wind_speed', 'pressure',\n",
    "                'precipitation', 'humidity', 'month', 'day_of_year', 'season', 'is_monsoon']\n",
    "    target_temp = 'forecasted_temperature'\n",
    "    target_precip = 'forecasted_precip_prob'\n",
    "    target_cond = 'forecasted_condition'\n",
    "\n",
    "    # Encode classification target\n",
    "    le = LabelEncoder()\n",
    "    df['forecasted_condition_encoded'] = le.fit_transform(df['forecasted_condition'])\n",
    "\n",
    "    X = df[features]\n",
    "\n",
    "    # Regression targets\n",
    "    y_temp = df[target_temp]\n",
    "    y_precip = df[target_precip]\n",
    "\n",
    "    # Classification target\n",
    "    y_cond = df['forecasted_condition_encoded']\n",
    "\n",
    "    # Train/Test split\n",
    "    X_train_temp, X_test_temp, y_train_temp, y_test_temp = train_test_split(X, y_temp, test_size=0.2, random_state=42)\n",
    "    X_train_precip, X_test_precip, y_train_precip, y_test_precip = train_test_split(X, y_precip, test_size=0.2, random_state=42)\n",
    "    X_train_cond, X_test_cond, y_train_cond, y_test_cond = train_test_split(X, y_cond, test_size=0.2, random_state=42)\n",
    "\n",
    "    # Oversample for classification\n",
    "    ros = RandomOverSampler(random_state=42)\n",
    "    X_resampled, y_resampled = ros.fit_resample(X_train_cond, y_train_cond)\n",
    "\n",
    "    # Models\n",
    "    reg_temp = XGBRegressor(n_estimators=100, random_state=42)\n",
    "    reg_precip = XGBRegressor(n_estimators=100, random_state=42)\n",
    "    cls_cond = XGBClassifier(n_estimators=100, random_state=42)\n",
    "\n",
    "    # Train\n",
    "    reg_temp.fit(X_train_temp, y_train_temp)\n",
    "    reg_precip.fit(X_train_precip, y_train_precip)\n",
    "    cls_cond.fit(X_resampled, y_resampled)\n",
    "\n",
    "    # Predict\n",
    "    df['predicted_temperature'] = reg_temp.predict(X)\n",
    "    df['predicted_precip_prob'] = reg_precip.predict(X)\n",
    "    df['predicted_condition_encoded'] = cls_cond.predict(X)\n",
    "    df['predicted_condition'] = le.inverse_transform(df['predicted_condition_encoded'])\n",
    "\n",
    "    # Evaluate\n",
    "    y_pred_temp = reg_temp.predict(X_test_temp)\n",
    "    y_pred_precip = reg_precip.predict(X_test_precip)\n",
    "    y_pred_cond = cls_cond.predict(X_test_cond)\n",
    "\n",
    "    rmse_temp = np.sqrt(mean_squared_error(y_test_temp, y_pred_temp))\n",
    "    rmse_precip = np.sqrt(mean_squared_error(y_test_precip, y_pred_precip))\n",
    "    acc_cond = accuracy_score(y_test_cond, y_pred_cond)\n",
    "\n",
    "    print(f\"\\n🌡️ Temperature Prediction RMSE: {rmse_temp:.2f} °C\")\n",
    "    print(f\"🌧️ Precipitation Probability RMSE: {rmse_precip:.3f}\")\n",
    "    print(f\"🌤️ Weather Condition Accuracy: {acc_cond:.2%}\")\n",
    "    print(classification_report(y_test_cond, y_pred_cond, target_names=le.classes_))\n",
    "\n",
    "    # Confusion Matrix\n",
    "    cm = confusion_matrix(y_test_cond, y_pred_cond)\n",
    "    disp = ConfusionMatrixDisplay(confusion_matrix=cm, display_labels=le.classes_)\n",
    "    disp.plot()\n",
    "    plt.title(\"Confusion Matrix - XGBoost Classifier\")\n",
    "    plt.show()\n",
    "\n",
    "    # Export CSV\n",
    "    df.to_csv(\"pune_weather_forecast_with_predictions.csv\", index=False)\n",
    "    print(\"\\n📁 CSV exported: pune_weather_forecast_with_predictions.csv\")\n",
    "    print(\"✅ Job finished at\", datetime.now())\n",
    "    df.tail(1)"
   ]
  },
  {
   "cell_type": "code",
   "execution_count": 6,
   "id": "18c8f9a4-0a45-43d0-9306-fc4a110b607f",
   "metadata": {},
   "outputs": [
    {
     "data": {
      "text/plain": [
       "Every 1 day at 07:05:00 do run_weather_forecast() (last run: [never], next run: 2025-04-13 07:05:00)"
      ]
     },
     "execution_count": 6,
     "metadata": {},
     "output_type": "execute_result"
    }
   ],
   "source": [
    "# Schedule job daily at 7:05 AM\n",
    "schedule.every().day.at(\"07:05\").do(run_weather_forecast)"
   ]
  },
  {
   "cell_type": "code",
   "execution_count": null,
   "id": "8a766284-35a6-4d19-937f-38af2b1843b5",
   "metadata": {},
   "outputs": [
    {
     "name": "stdout",
     "output_type": "stream",
     "text": [
      "📅 Scheduler running... Waiting for 7:05 AM daily job...\n"
     ]
    }
   ],
   "source": [
    "print(\"📅 Scheduler running... Waiting for 7:05 AM daily job...\")\n",
    "while True:\n",
    "    schedule.run_pending()\n",
    "    time.sleep(60)"
   ]
  }
 ],
 "metadata": {
  "kernelspec": {
   "display_name": "Python [conda env:base] *",
   "language": "python",
   "name": "conda-base-py"
  },
  "language_info": {
   "codemirror_mode": {
    "name": "ipython",
    "version": 3
   },
   "file_extension": ".py",
   "mimetype": "text/x-python",
   "name": "python",
   "nbconvert_exporter": "python",
   "pygments_lexer": "ipython3",
   "version": "3.12.9"
  }
 },
 "nbformat": 4,
 "nbformat_minor": 5
}
